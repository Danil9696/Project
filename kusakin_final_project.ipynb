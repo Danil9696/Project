{
 "cells": [
  {
   "cell_type": "markdown",
   "metadata": {},
   "source": [
    "# Постановка исследовательского вопроса"
   ]
  },
  {
   "cell_type": "markdown",
   "metadata": {},
   "source": [
    "Целью любой коммерчиской организации является увеличение собственной прибыли за счет ведения основного вида деятельности. При определении сферы деятельности, целевой аудитории, ассортимента и прочих базовых принципов ведения бизнеса практически единственной переменной, которой может управлять фирма, является цена оказываемой услуги или продаваемого товара. При первичном установлении цены у любой фирмы нет точных данных о спросе на их продукцию, поэтому необходимо применять экспертный подход, основывающийся на общем представлении о спросе; а последующая корректировка цены, с целью ее оптимизации, возможна только на ретроспективных данных о фактических объемах продаж.\n",
    "\n",
    "Одной из таких фирм является сеть розничных магазинов \"Семья\". Данная сеть организовала достаточно продвинутую систему сбора данных о продажах, благодаря которой возможно постраение большого множества моделей для совершенно различных задач.\n",
    "\n",
    "Целью данного проекта является разработка модели оценки потребительсколго спроса, которая позволит дать рекомендации по оптимальному управлению ценой в сети магазинов \"Семья\"."
   ]
  },
  {
   "cell_type": "markdown",
   "metadata": {},
   "source": [
    "# Описание исходных данных"
   ]
  },
  {
   "cell_type": "markdown",
   "metadata": {},
   "source": [
    "Для проекта используются данные по продаже соков в сети магазинав \"Семья\" города Пермь. Доступ к базе данных был предоставлен лаборатории \"GAMES\" НИУ ВШЭ-Пермь представителями сети. В исходной базе данных собирается информация в различных разрезах: продажи определенных категорий товаров в конкретном магазине, информация о продажах по чекам, информация о покупках конкретных потребителей через систему карт лояльности и т.д. С целью конфиденциальности доступ ко всем данным предоставлялся только ограниченному кругу лиц, поэтому для учебных целей имеется только датасет по продажам соков в разрезе магазинов.\n",
    "\n",
    "Данные имеют панельную структуру, где наблюдением является количество проданных единиц (упаковок) определенного sku в конкретном магазине за каждый день в период с 2009 по 2014 год.\n",
    "\n",
    "В используемой базе данных имеются следующие характеристики соков: цена, объем, вкус, наличие мякоти, находился данный сок ли в акции в определенный день, материал упаковки."
   ]
  },
  {
   "cell_type": "markdown",
   "metadata": {},
   "source": [
    "# Подготовка данных"
   ]
  },
  {
   "cell_type": "markdown",
   "metadata": {},
   "source": [
    "Загрузим необходимые пакеты и исходные данные."
   ]
  },
  {
   "cell_type": "code",
   "execution_count": 1,
   "metadata": {},
   "outputs": [],
   "source": [
    "import numpy as np\n",
    "import matplotlib.pyplot as plt\n",
    "import pandas as pd\n",
    "from sklearn.model_selection import cross_val_score\n",
    "\n",
    "semya_init = pd.read_stata('/Users/danil_kusakin/Desktop/semya_12_final.dta')"
   ]
  },
  {
   "cell_type": "markdown",
   "metadata": {},
   "source": [
    "Предварительно посмотрим на то, как распределены объемы продаж в исходных данных."
   ]
  },
  {
   "cell_type": "code",
   "execution_count": 2,
   "metadata": {},
   "outputs": [
    {
     "data": {
      "text/plain": [
       "count    9.893705e+06\n",
       "mean     7.796319e-01\n",
       "std      4.506791e+00\n",
       "min      0.000000e+00\n",
       "25%      0.000000e+00\n",
       "50%      0.000000e+00\n",
       "75%      1.000000e+00\n",
       "max      4.828000e+03\n",
       "Name: salesvolume, dtype: float64"
      ]
     },
     "execution_count": 2,
     "metadata": {},
     "output_type": "execute_result"
    }
   ],
   "source": [
    "semya_init.salesvolume.describe()"
   ]
  },
  {
   "cell_type": "markdown",
   "metadata": {},
   "source": [
    "На данном этапе можно заметить, что как минимум половина наблюдений имеею нулевые продажи и как минимум 75% выборки – не более одной единицы. Такое распределение зависимой переменной вызвано излишней детализацией: продажи конкретного sku в конкретный день в определенном магазине. Уже из подобного анализа можно сказать, что на таких данных любая модель будет плохо работать, так как ей будет \"удобно\" давать тривиальный прогноз, где все продажи равны нулю или близки к этому значению.\n",
    "\n",
    "Особенностью ценообразования сети \"Семья\" является установление единой цены для всех магазинов во всем городе, то есть неоправданно разбиение до уровня магазинов. Таким образом, является логичным агрегирование данных до уровня продаж конекретного sku в определенный день по всей сети."
   ]
  },
  {
   "cell_type": "markdown",
   "metadata": {},
   "source": [
    "Сделаем агрегацию данных от уровня отдельных магазинов до объемов продаж по всей сети."
   ]
  },
  {
   "cell_type": "code",
   "execution_count": 3,
   "metadata": {},
   "outputs": [
    {
     "data": {
      "text/html": [
       "<div>\n",
       "<style scoped>\n",
       "    .dataframe tbody tr th:only-of-type {\n",
       "        vertical-align: middle;\n",
       "    }\n",
       "\n",
       "    .dataframe tbody tr th {\n",
       "        vertical-align: top;\n",
       "    }\n",
       "\n",
       "    .dataframe thead th {\n",
       "        text-align: right;\n",
       "    }\n",
       "</style>\n",
       "<table border=\"1\" class=\"dataframe\">\n",
       "  <thead>\n",
       "    <tr style=\"text-align: right;\">\n",
       "      <th></th>\n",
       "      <th>id_sku</th>\n",
       "      <th>date2</th>\n",
       "      <th>salesvolume</th>\n",
       "    </tr>\n",
       "  </thead>\n",
       "  <tbody>\n",
       "    <tr>\n",
       "      <th>0</th>\n",
       "      <td>10826</td>\n",
       "      <td>2009-01-01</td>\n",
       "      <td>2</td>\n",
       "    </tr>\n",
       "    <tr>\n",
       "      <th>1</th>\n",
       "      <td>10826</td>\n",
       "      <td>2009-01-02</td>\n",
       "      <td>2</td>\n",
       "    </tr>\n",
       "    <tr>\n",
       "      <th>2</th>\n",
       "      <td>10826</td>\n",
       "      <td>2009-01-03</td>\n",
       "      <td>1</td>\n",
       "    </tr>\n",
       "    <tr>\n",
       "      <th>3</th>\n",
       "      <td>10826</td>\n",
       "      <td>2009-01-04</td>\n",
       "      <td>2</td>\n",
       "    </tr>\n",
       "    <tr>\n",
       "      <th>4</th>\n",
       "      <td>10826</td>\n",
       "      <td>2009-01-05</td>\n",
       "      <td>2</td>\n",
       "    </tr>\n",
       "  </tbody>\n",
       "</table>\n",
       "</div>"
      ],
      "text/plain": [
       "   id_sku      date2  salesvolume\n",
       "0   10826 2009-01-01            2\n",
       "1   10826 2009-01-02            2\n",
       "2   10826 2009-01-03            1\n",
       "3   10826 2009-01-04            2\n",
       "4   10826 2009-01-05            2"
      ]
     },
     "execution_count": 3,
     "metadata": {},
     "output_type": "execute_result"
    }
   ],
   "source": [
    "semya_gb=semya_init.groupby(['id_sku', 'date2'])['salesvolume'].sum().reset_index()\n",
    "semya_gb.head()"
   ]
  },
  {
   "cell_type": "markdown",
   "metadata": {},
   "source": [
    "Проведем грубый анализ на выбросы."
   ]
  },
  {
   "cell_type": "code",
   "execution_count": 4,
   "metadata": {},
   "outputs": [
    {
     "data": {
      "text/html": [
       "<div>\n",
       "<style scoped>\n",
       "    .dataframe tbody tr th:only-of-type {\n",
       "        vertical-align: middle;\n",
       "    }\n",
       "\n",
       "    .dataframe tbody tr th {\n",
       "        vertical-align: top;\n",
       "    }\n",
       "\n",
       "    .dataframe thead th {\n",
       "        text-align: right;\n",
       "    }\n",
       "</style>\n",
       "<table border=\"1\" class=\"dataframe\">\n",
       "  <thead>\n",
       "    <tr style=\"text-align: right;\">\n",
       "      <th></th>\n",
       "      <th>id_sku</th>\n",
       "      <th>salesvolume</th>\n",
       "    </tr>\n",
       "  </thead>\n",
       "  <tbody>\n",
       "    <tr>\n",
       "      <th>count</th>\n",
       "      <td>4.582740e+05</td>\n",
       "      <td>458274.000000</td>\n",
       "    </tr>\n",
       "    <tr>\n",
       "      <th>mean</th>\n",
       "      <td>4.122711e+05</td>\n",
       "      <td>16.831520</td>\n",
       "    </tr>\n",
       "    <tr>\n",
       "      <th>std</th>\n",
       "      <td>3.241129e+05</td>\n",
       "      <td>48.057349</td>\n",
       "    </tr>\n",
       "    <tr>\n",
       "      <th>min</th>\n",
       "      <td>1.082600e+04</td>\n",
       "      <td>0.000000</td>\n",
       "    </tr>\n",
       "    <tr>\n",
       "      <th>25%</th>\n",
       "      <td>2.917450e+05</td>\n",
       "      <td>2.000000</td>\n",
       "    </tr>\n",
       "    <tr>\n",
       "      <th>50%</th>\n",
       "      <td>4.376760e+05</td>\n",
       "      <td>6.000000</td>\n",
       "    </tr>\n",
       "    <tr>\n",
       "      <th>75%</th>\n",
       "      <td>4.685580e+05</td>\n",
       "      <td>14.000000</td>\n",
       "    </tr>\n",
       "    <tr>\n",
       "      <th>max</th>\n",
       "      <td>1.907577e+06</td>\n",
       "      <td>5766.000000</td>\n",
       "    </tr>\n",
       "  </tbody>\n",
       "</table>\n",
       "</div>"
      ],
      "text/plain": [
       "             id_sku    salesvolume\n",
       "count  4.582740e+05  458274.000000\n",
       "mean   4.122711e+05      16.831520\n",
       "std    3.241129e+05      48.057349\n",
       "min    1.082600e+04       0.000000\n",
       "25%    2.917450e+05       2.000000\n",
       "50%    4.376760e+05       6.000000\n",
       "75%    4.685580e+05      14.000000\n",
       "max    1.907577e+06    5766.000000"
      ]
     },
     "execution_count": 4,
     "metadata": {},
     "output_type": "execute_result"
    }
   ],
   "source": [
    "semya_gb.describe()"
   ]
  },
  {
   "cell_type": "code",
   "execution_count": 5,
   "metadata": {},
   "outputs": [
    {
     "data": {
      "text/plain": [
       "(array([4.50867e+05, 5.48400e+03, 1.21500e+03, 3.45000e+02, 1.75000e+02,\n",
       "        9.70000e+01, 4.20000e+01, 2.40000e+01, 1.60000e+01, 3.00000e+00,\n",
       "        1.00000e+00, 0.00000e+00, 0.00000e+00, 0.00000e+00, 0.00000e+00,\n",
       "        0.00000e+00, 0.00000e+00, 0.00000e+00, 0.00000e+00, 1.00000e+00,\n",
       "        0.00000e+00, 0.00000e+00, 2.00000e+00, 0.00000e+00, 0.00000e+00,\n",
       "        0.00000e+00, 0.00000e+00, 0.00000e+00, 0.00000e+00, 0.00000e+00,\n",
       "        0.00000e+00, 0.00000e+00, 0.00000e+00, 0.00000e+00, 0.00000e+00,\n",
       "        2.00000e+00]),\n",
       " array([   0.        ,  160.16666667,  320.33333333,  480.5       ,\n",
       "         640.66666667,  800.83333333,  961.        , 1121.16666667,\n",
       "        1281.33333333, 1441.5       , 1601.66666667, 1761.83333333,\n",
       "        1922.        , 2082.16666667, 2242.33333333, 2402.5       ,\n",
       "        2562.66666667, 2722.83333333, 2883.        , 3043.16666667,\n",
       "        3203.33333333, 3363.5       , 3523.66666667, 3683.83333333,\n",
       "        3844.        , 4004.16666667, 4164.33333333, 4324.5       ,\n",
       "        4484.66666667, 4644.83333333, 4805.        , 4965.16666667,\n",
       "        5125.33333333, 5285.5       , 5445.66666667, 5605.83333333,\n",
       "        5766.        ]),\n",
       " <a list of 36 Patch objects>)"
      ]
     },
     "execution_count": 5,
     "metadata": {},
     "output_type": "execute_result"
    },
    {
     "data": {
      "image/png": "[encoded data removed]",
      "text/plain": [
       "<Figure size 432x288 with 1 Axes>"
      ]
     },
     "metadata": {},
     "output_type": "display_data"
    }
   ],
   "source": [
    "plt.hist(semya_gb['salesvolume'],bins = int(180/5))"
   ]
  },
  {
   "cell_type": "markdown",
   "metadata": {},
   "source": [
    "Из описательных статистик и гистограммы видно, что есть крайне редкие аномально высокие продажи, однако большинсво наблюдений имеют относильно низкий объем продаж. Такие наблюдения могут являться техническими ошибками заполнения данных или же \"особыми\" днями, например большие праздники, которые не характерны в общем случае. Так или иначе, является логичным удаление таких наблюдений из выборки для уменьшения их отрицательного влияния на модели.\n",
    "\n",
    "Путем постепенного отрезания по верхней границе продаж было выявленно, что разумной является граница в 100 единиц, так как бОльшие наблюдения встречаются крайне редко. После чего распределение продаж выглядит следующим образом."
   ]
  },
  {
   "cell_type": "code",
   "execution_count": 6,
   "metadata": {},
   "outputs": [
    {
     "data": {
      "text/plain": [
       "(array([134436.,  74648.,  59811.,  30988.,  35637.,  25227.,  18064.,\n",
       "          8987.,  10548.,   7847.,   5883.,   3240.,   4023.,   3274.,\n",
       "          2751.,   1522.,   1987.,   1710.,   1440.,    858.,   1090.,\n",
       "          1058.,    980.,    618.,    899.,    751.,    755.,    432.,\n",
       "           620.,    596.,    573.,    373.,    562.,    534.,    491.,\n",
       "           480.]),\n",
       " array([ 0.  ,  2.75,  5.5 ,  8.25, 11.  , 13.75, 16.5 , 19.25, 22.  ,\n",
       "        24.75, 27.5 , 30.25, 33.  , 35.75, 38.5 , 41.25, 44.  , 46.75,\n",
       "        49.5 , 52.25, 55.  , 57.75, 60.5 , 63.25, 66.  , 68.75, 71.5 ,\n",
       "        74.25, 77.  , 79.75, 82.5 , 85.25, 88.  , 90.75, 93.5 , 96.25,\n",
       "        99.  ]),\n",
       " <a list of 36 Patch objects>)"
      ]
     },
     "execution_count": 6,
     "metadata": {},
     "output_type": "execute_result"
    },
    {
     "data": {
      "image/png": "[encoded data removed]",
      "text/plain": [
       "<Figure size 432x288 with 1 Axes>"
      ]
     },
     "metadata": {},
     "output_type": "display_data"
    }
   ],
   "source": [
    "semya_gb=semya_gb[semya_gb.salesvolume < 100]\n",
    "plt.hist(semya_gb['salesvolume'],bins = int(180/5))"
   ]
  },
  {
   "cell_type": "markdown",
   "metadata": {},
   "source": [
    "Далее нам необходимо \"присоединить\" характеристики сока из исходной таблице к новой."
   ]
  },
  {
   "cell_type": "code",
   "execution_count": 7,
   "metadata": {},
   "outputs": [
    {
     "data": {
      "text/html": [
       "<div>\n",
       "<style scoped>\n",
       "    .dataframe tbody tr th:only-of-type {\n",
       "        vertical-align: middle;\n",
       "    }\n",
       "\n",
       "    .dataframe tbody tr th {\n",
       "        vertical-align: top;\n",
       "    }\n",
       "\n",
       "    .dataframe thead th {\n",
       "        text-align: right;\n",
       "    }\n",
       "</style>\n",
       "<table border=\"1\" class=\"dataframe\">\n",
       "  <thead>\n",
       "    <tr style=\"text-align: right;\">\n",
       "      <th></th>\n",
       "      <th>id_sku</th>\n",
       "      <th>date2</th>\n",
       "      <th>salesvolume_x</th>\n",
       "      <th>date</th>\n",
       "      <th>day</th>\n",
       "      <th>month</th>\n",
       "      <th>year</th>\n",
       "      <th>id_store</th>\n",
       "      <th>salesvolume_y</th>\n",
       "      <th>salessumm</th>\n",
       "      <th>...</th>\n",
       "      <th>applemix</th>\n",
       "      <th>mix</th>\n",
       "      <th>juicecontentreal</th>\n",
       "      <th>carton</th>\n",
       "      <th>pulp</th>\n",
       "      <th>city</th>\n",
       "      <th>format</th>\n",
       "      <th>revenue</th>\n",
       "      <th>cust_count</th>\n",
       "      <th>action2</th>\n",
       "    </tr>\n",
       "  </thead>\n",
       "  <tbody>\n",
       "    <tr>\n",
       "      <th>0</th>\n",
       "      <td>10826</td>\n",
       "      <td>2009-01-01</td>\n",
       "      <td>2</td>\n",
       "      <td>2009-01-01</td>\n",
       "      <td>1</td>\n",
       "      <td>1</td>\n",
       "      <td>2009</td>\n",
       "      <td>43</td>\n",
       "      <td>1</td>\n",
       "      <td>71</td>\n",
       "      <td>...</td>\n",
       "      <td>0</td>\n",
       "      <td>1</td>\n",
       "      <td>100</td>\n",
       "      <td>1</td>\n",
       "      <td>0</td>\n",
       "      <td>Perm</td>\n",
       "      <td>Large</td>\n",
       "      <td>667749.0</td>\n",
       "      <td>8876.0</td>\n",
       "      <td>0</td>\n",
       "    </tr>\n",
       "    <tr>\n",
       "      <th>1</th>\n",
       "      <td>10826</td>\n",
       "      <td>2009-01-02</td>\n",
       "      <td>2</td>\n",
       "      <td>2009-01-02</td>\n",
       "      <td>2</td>\n",
       "      <td>1</td>\n",
       "      <td>2009</td>\n",
       "      <td>43</td>\n",
       "      <td>1</td>\n",
       "      <td>71</td>\n",
       "      <td>...</td>\n",
       "      <td>0</td>\n",
       "      <td>1</td>\n",
       "      <td>100</td>\n",
       "      <td>1</td>\n",
       "      <td>0</td>\n",
       "      <td>Perm</td>\n",
       "      <td>Large</td>\n",
       "      <td>1405083.0</td>\n",
       "      <td>21416.0</td>\n",
       "      <td>0</td>\n",
       "    </tr>\n",
       "    <tr>\n",
       "      <th>2</th>\n",
       "      <td>10826</td>\n",
       "      <td>2009-01-03</td>\n",
       "      <td>1</td>\n",
       "      <td>2009-01-03</td>\n",
       "      <td>3</td>\n",
       "      <td>1</td>\n",
       "      <td>2009</td>\n",
       "      <td>43</td>\n",
       "      <td>0</td>\n",
       "      <td>0</td>\n",
       "      <td>...</td>\n",
       "      <td>0</td>\n",
       "      <td>1</td>\n",
       "      <td>100</td>\n",
       "      <td>1</td>\n",
       "      <td>0</td>\n",
       "      <td>Perm</td>\n",
       "      <td>Large</td>\n",
       "      <td>1248222.0</td>\n",
       "      <td>20353.0</td>\n",
       "      <td>0</td>\n",
       "    </tr>\n",
       "    <tr>\n",
       "      <th>3</th>\n",
       "      <td>10826</td>\n",
       "      <td>2009-01-04</td>\n",
       "      <td>2</td>\n",
       "      <td>2009-01-04</td>\n",
       "      <td>4</td>\n",
       "      <td>1</td>\n",
       "      <td>2009</td>\n",
       "      <td>43</td>\n",
       "      <td>0</td>\n",
       "      <td>0</td>\n",
       "      <td>...</td>\n",
       "      <td>0</td>\n",
       "      <td>1</td>\n",
       "      <td>100</td>\n",
       "      <td>1</td>\n",
       "      <td>0</td>\n",
       "      <td>Perm</td>\n",
       "      <td>Large</td>\n",
       "      <td>1267606.0</td>\n",
       "      <td>21688.0</td>\n",
       "      <td>0</td>\n",
       "    </tr>\n",
       "    <tr>\n",
       "      <th>4</th>\n",
       "      <td>10826</td>\n",
       "      <td>2009-01-05</td>\n",
       "      <td>2</td>\n",
       "      <td>2009-01-05</td>\n",
       "      <td>5</td>\n",
       "      <td>1</td>\n",
       "      <td>2009</td>\n",
       "      <td>43</td>\n",
       "      <td>0</td>\n",
       "      <td>0</td>\n",
       "      <td>...</td>\n",
       "      <td>0</td>\n",
       "      <td>1</td>\n",
       "      <td>100</td>\n",
       "      <td>1</td>\n",
       "      <td>0</td>\n",
       "      <td>Perm</td>\n",
       "      <td>Large</td>\n",
       "      <td>1417431.0</td>\n",
       "      <td>23444.0</td>\n",
       "      <td>0</td>\n",
       "    </tr>\n",
       "  </tbody>\n",
       "</table>\n",
       "<p>5 rows × 37 columns</p>\n",
       "</div>"
      ],
      "text/plain": [
       "   id_sku      date2  salesvolume_x        date  day  month  year  id_store  \\\n",
       "0   10826 2009-01-01              2  2009-01-01    1      1  2009        43   \n",
       "1   10826 2009-01-02              2  2009-01-02    2      1  2009        43   \n",
       "2   10826 2009-01-03              1  2009-01-03    3      1  2009        43   \n",
       "3   10826 2009-01-04              2  2009-01-04    4      1  2009        43   \n",
       "4   10826 2009-01-05              2  2009-01-05    5      1  2009        43   \n",
       "\n",
       "   salesvolume_y  salessumm   ...     applemix  mix juicecontentreal  carton  \\\n",
       "0              1         71   ...            0    1              100       1   \n",
       "1              1         71   ...            0    1              100       1   \n",
       "2              0          0   ...            0    1              100       1   \n",
       "3              0          0   ...            0    1              100       1   \n",
       "4              0          0   ...            0    1              100       1   \n",
       "\n",
       "   pulp  city  format    revenue  cust_count  action2  \n",
       "0     0  Perm   Large   667749.0      8876.0        0  \n",
       "1     0  Perm   Large  1405083.0     21416.0        0  \n",
       "2     0  Perm   Large  1248222.0     20353.0        0  \n",
       "3     0  Perm   Large  1267606.0     21688.0        0  \n",
       "4     0  Perm   Large  1417431.0     23444.0        0  \n",
       "\n",
       "[5 rows x 37 columns]"
      ]
     },
     "execution_count": 7,
     "metadata": {},
     "output_type": "execute_result"
    }
   ],
   "source": [
    "semya_ndub=semya_init.drop_duplicates(subset=['id_sku', 'date2'])\n",
    "semya_new = pd.merge(semya_gb, semya_ndub,  how='left', on = ['id_sku','date2'])\n",
    "semya_new.head()"
   ]
  },
  {
   "cell_type": "markdown",
   "metadata": {},
   "source": [
    "Теперь подготовим данные для более корректного моделирования.\n",
    "\n",
    "Во-первых, сформируем переменную time которая будет отражать тренд с точностью до календарного месяца. Такая переменная позволит учесть изменения в средней потребительской корзине во времени. В качестве единице времени был выбран один месяц, потому что в \"Семье\" изменение цен происходит раз в две недели, то есть нет смысла дробить до конкретного дня; как правило в месяце больше четырех недель, поэтому сложно отловить конкретный день изменения цен, поэтому календарный месяц являться оптимальным выбором с точки зрения точности и простоты расчетов.\n",
    "\n",
    "Так же разобьем переменную id_brand на дамми, так как эта переменная является категориальной и не может быть упрорядочена естественным образом; включение же дамми на бренд позволит учесть ненаблюдаемые характеристики качесва сока.\n",
    "\n",
    "Удалим ненужные переменные для облегчения расчетов. Пропуски в данных не позволяют работать некоторым моделям, поэтому необходимо из чем-то заменить или удалить; в нашем случае даже после удаления мы имеем более 360 тыс. наблюдений, поэтому просто удалим пропуски."
   ]
  },
  {
   "cell_type": "code",
   "execution_count": 8,
   "metadata": {},
   "outputs": [
    {
     "data": {
      "text/html": [
       "<div>\n",
       "<style scoped>\n",
       "    .dataframe tbody tr th:only-of-type {\n",
       "        vertical-align: middle;\n",
       "    }\n",
       "\n",
       "    .dataframe tbody tr th {\n",
       "        vertical-align: top;\n",
       "    }\n",
       "\n",
       "    .dataframe thead th {\n",
       "        text-align: right;\n",
       "    }\n",
       "</style>\n",
       "<table border=\"1\" class=\"dataframe\">\n",
       "  <thead>\n",
       "    <tr style=\"text-align: right;\">\n",
       "      <th></th>\n",
       "      <th>salesvolume_x</th>\n",
       "      <th>id_sku</th>\n",
       "      <th>av_price</th>\n",
       "      <th>size</th>\n",
       "      <th>sizecheatdummy</th>\n",
       "      <th>orange</th>\n",
       "      <th>apple</th>\n",
       "      <th>cherry</th>\n",
       "      <th>peachapricot</th>\n",
       "      <th>pineapple</th>\n",
       "      <th>...</th>\n",
       "      <th>2033</th>\n",
       "      <th>2035</th>\n",
       "      <th>2036</th>\n",
       "      <th>2040</th>\n",
       "      <th>2044</th>\n",
       "      <th>2046</th>\n",
       "      <th>2047</th>\n",
       "      <th>2048</th>\n",
       "      <th>2050</th>\n",
       "      <th>2051</th>\n",
       "    </tr>\n",
       "  </thead>\n",
       "  <tbody>\n",
       "    <tr>\n",
       "      <th>0</th>\n",
       "      <td>2</td>\n",
       "      <td>10826</td>\n",
       "      <td>71.0</td>\n",
       "      <td>1000</td>\n",
       "      <td>0</td>\n",
       "      <td>0</td>\n",
       "      <td>0</td>\n",
       "      <td>0</td>\n",
       "      <td>0</td>\n",
       "      <td>0</td>\n",
       "      <td>...</td>\n",
       "      <td>0</td>\n",
       "      <td>0</td>\n",
       "      <td>0</td>\n",
       "      <td>0</td>\n",
       "      <td>0</td>\n",
       "      <td>0</td>\n",
       "      <td>0</td>\n",
       "      <td>0</td>\n",
       "      <td>0</td>\n",
       "      <td>0</td>\n",
       "    </tr>\n",
       "    <tr>\n",
       "      <th>1</th>\n",
       "      <td>2</td>\n",
       "      <td>10826</td>\n",
       "      <td>71.0</td>\n",
       "      <td>1000</td>\n",
       "      <td>0</td>\n",
       "      <td>0</td>\n",
       "      <td>0</td>\n",
       "      <td>0</td>\n",
       "      <td>0</td>\n",
       "      <td>0</td>\n",
       "      <td>...</td>\n",
       "      <td>0</td>\n",
       "      <td>0</td>\n",
       "      <td>0</td>\n",
       "      <td>0</td>\n",
       "      <td>0</td>\n",
       "      <td>0</td>\n",
       "      <td>0</td>\n",
       "      <td>0</td>\n",
       "      <td>0</td>\n",
       "      <td>0</td>\n",
       "    </tr>\n",
       "    <tr>\n",
       "      <th>2</th>\n",
       "      <td>1</td>\n",
       "      <td>10826</td>\n",
       "      <td>71.0</td>\n",
       "      <td>1000</td>\n",
       "      <td>0</td>\n",
       "      <td>0</td>\n",
       "      <td>0</td>\n",
       "      <td>0</td>\n",
       "      <td>0</td>\n",
       "      <td>0</td>\n",
       "      <td>...</td>\n",
       "      <td>0</td>\n",
       "      <td>0</td>\n",
       "      <td>0</td>\n",
       "      <td>0</td>\n",
       "      <td>0</td>\n",
       "      <td>0</td>\n",
       "      <td>0</td>\n",
       "      <td>0</td>\n",
       "      <td>0</td>\n",
       "      <td>0</td>\n",
       "    </tr>\n",
       "    <tr>\n",
       "      <th>3</th>\n",
       "      <td>2</td>\n",
       "      <td>10826</td>\n",
       "      <td>71.0</td>\n",
       "      <td>1000</td>\n",
       "      <td>0</td>\n",
       "      <td>0</td>\n",
       "      <td>0</td>\n",
       "      <td>0</td>\n",
       "      <td>0</td>\n",
       "      <td>0</td>\n",
       "      <td>...</td>\n",
       "      <td>0</td>\n",
       "      <td>0</td>\n",
       "      <td>0</td>\n",
       "      <td>0</td>\n",
       "      <td>0</td>\n",
       "      <td>0</td>\n",
       "      <td>0</td>\n",
       "      <td>0</td>\n",
       "      <td>0</td>\n",
       "      <td>0</td>\n",
       "    </tr>\n",
       "    <tr>\n",
       "      <th>4</th>\n",
       "      <td>2</td>\n",
       "      <td>10826</td>\n",
       "      <td>71.0</td>\n",
       "      <td>1000</td>\n",
       "      <td>0</td>\n",
       "      <td>0</td>\n",
       "      <td>0</td>\n",
       "      <td>0</td>\n",
       "      <td>0</td>\n",
       "      <td>0</td>\n",
       "      <td>...</td>\n",
       "      <td>0</td>\n",
       "      <td>0</td>\n",
       "      <td>0</td>\n",
       "      <td>0</td>\n",
       "      <td>0</td>\n",
       "      <td>0</td>\n",
       "      <td>0</td>\n",
       "      <td>0</td>\n",
       "      <td>0</td>\n",
       "      <td>0</td>\n",
       "    </tr>\n",
       "  </tbody>\n",
       "</table>\n",
       "<p>5 rows × 47 columns</p>\n",
       "</div>"
      ],
      "text/plain": [
       "   salesvolume_x  id_sku  av_price  size  sizecheatdummy  orange  apple  \\\n",
       "0              2   10826      71.0  1000               0       0      0   \n",
       "1              2   10826      71.0  1000               0       0      0   \n",
       "2              1   10826      71.0  1000               0       0      0   \n",
       "3              2   10826      71.0  1000               0       0      0   \n",
       "4              2   10826      71.0  1000               0       0      0   \n",
       "\n",
       "   cherry  peachapricot  pineapple  ...   2033  2035  2036  2040  2044  2046  \\\n",
       "0       0             0          0  ...      0     0     0     0     0     0   \n",
       "1       0             0          0  ...      0     0     0     0     0     0   \n",
       "2       0             0          0  ...      0     0     0     0     0     0   \n",
       "3       0             0          0  ...      0     0     0     0     0     0   \n",
       "4       0             0          0  ...      0     0     0     0     0     0   \n",
       "\n",
       "   2047  2048  2050  2051  \n",
       "0     0     0     0     0  \n",
       "1     0     0     0     0  \n",
       "2     0     0     0     0  \n",
       "3     0     0     0     0  \n",
       "4     0     0     0     0  \n",
       "\n",
       "[5 rows x 47 columns]"
      ]
     },
     "execution_count": 8,
     "metadata": {},
     "output_type": "execute_result"
    }
   ],
   "source": [
    "semya_new['time']=(semya_new['year']-2009)*12+semya_new['month']\n",
    "\n",
    "semya_dbrand = pd.get_dummies(semya_new['id_brand'])\n",
    "semya = pd.concat([semya_new, semya_dbrand], axis=1)\n",
    "\n",
    "semya=semya.drop(columns=['date2','date','day', 'month','year','id_store','salesvolume_y','salessumm',\n",
    "                          'price','isaction','id_brand','sizereal','id_taste','juicecontentreal','city'\n",
    "                          ,'format','revenue','cust_count'])\n",
    "\n",
    "semya=semya.dropna()\n",
    "\n",
    "cols = ['salesvolume_x']  + [col for col in semya if col != 'salesvolume_x']\n",
    "semya = semya[cols]\n",
    "\n",
    "semya.head()"
   ]
  },
  {
   "cell_type": "markdown",
   "metadata": {},
   "source": [
    "# Оценка моделей"
   ]
  },
  {
   "cell_type": "markdown",
   "metadata": {},
   "source": [
    "Выделим зависимую и независимые переменные и разобьем выборку на тестовую и обучающую."
   ]
  },
  {
   "cell_type": "code",
   "execution_count": 9,
   "metadata": {},
   "outputs": [],
   "source": [
    "X = semya.iloc[:,1:].values\n",
    "y = semya.iloc[:,0].values\n",
    "from sklearn.model_selection import train_test_split\n",
    "X_train, X_test, y_train, y_test = train_test_split(X, y, test_size = 0.2, random_state = 0)"
   ]
  },
  {
   "cell_type": "markdown",
   "metadata": {},
   "source": [
    "Выбор модели осуществлялся не из теоретических предпосылок и особенностей данных, а \"в лоб\" по предсказательной силе конкретной спецификации.\n",
    "\n",
    "Модели типа adaboost имели крайне плохую предсказательную способность.\n",
    "\n",
    "Модели gradient boosting имели лучшее качество. Эти модели имели возможность к дальнейшему улучшению путем увеличения количества итераций, однако с определенного момента сложность расчетов возрастала в разы, а прирост в качестве становился крайне мал. Из-за ограниченных возмозностей по улучшению модели она была отброшена.\n",
    "\n",
    "Модель дерева решений имеет достаточно хорошее объясняющее и прогнозное качество при быстроте расчетов, а модель random forest позволяет дополнительно усилить силу прогноза.\n",
    "\n",
    "Ансамбли по типу стэкинга и бэггинга не улучшали качество прогноза по сравнению с random forest, а лишь усложняли расчеты, поэтому было принято решение остановиться именно на модели случайного леса."
   ]
  },
  {
   "cell_type": "code",
   "execution_count": 10,
   "metadata": {},
   "outputs": [
    {
     "data": {
      "text/plain": [
       "(0.8462108935982576, 0.7966204326679689)"
      ]
     },
     "execution_count": 10,
     "metadata": {},
     "output_type": "execute_result"
    }
   ],
   "source": [
    "from sklearn.ensemble import RandomForestRegressor\n",
    "modelRF = RandomForestRegressor(n_estimators=20, max_features=25)\n",
    "modelRF.fit(X_train, y_train)\n",
    "modelRF.score(X_train, y_train), modelRF.score(X_test, y_test)"
   ]
  },
  {
   "cell_type": "markdown",
   "metadata": {},
   "source": [
    "Практическим путем было выяснено, что вариация параметров в данной модели не позволяет достичь стабильного прироста в качестве, поэтому остановимся на представленном варианте."
   ]
  },
  {
   "cell_type": "markdown",
   "metadata": {},
   "source": [
    "Интерпретация модели показывает, что в данном примере наиболее значимой является переменная цены, поэтому действительно для сети есть смысл управлять ценой.\n",
    "\n",
    "Так же значимыми параметрами оказались объем, вкус и скидка, что соответствует логике о том, как люди выбирабт сок."
   ]
  },
  {
   "cell_type": "code",
   "execution_count": 11,
   "metadata": {},
   "outputs": [
    {
     "data": {
      "text/html": [
       "<div>\n",
       "<style scoped>\n",
       "    .dataframe tbody tr th:only-of-type {\n",
       "        vertical-align: middle;\n",
       "    }\n",
       "\n",
       "    .dataframe tbody tr th {\n",
       "        vertical-align: top;\n",
       "    }\n",
       "\n",
       "    .dataframe thead th {\n",
       "        text-align: right;\n",
       "    }\n",
       "</style>\n",
       "<table border=\"1\" class=\"dataframe\">\n",
       "  <thead>\n",
       "    <tr style=\"text-align: right;\">\n",
       "      <th></th>\n",
       "      <th>feature</th>\n",
       "      <th>weight</th>\n",
       "      <th>std</th>\n",
       "    </tr>\n",
       "  </thead>\n",
       "  <tbody>\n",
       "    <tr>\n",
       "      <th>0</th>\n",
       "      <td>x1</td>\n",
       "      <td>0.323778</td>\n",
       "      <td>0.025086</td>\n",
       "    </tr>\n",
       "    <tr>\n",
       "      <th>1</th>\n",
       "      <td>x18</td>\n",
       "      <td>0.185660</td>\n",
       "      <td>0.008608</td>\n",
       "    </tr>\n",
       "    <tr>\n",
       "      <th>2</th>\n",
       "      <td>x0</td>\n",
       "      <td>0.135081</td>\n",
       "      <td>0.025262</td>\n",
       "    </tr>\n",
       "    <tr>\n",
       "      <th>3</th>\n",
       "      <td>x2</td>\n",
       "      <td>0.040461</td>\n",
       "      <td>0.018188</td>\n",
       "    </tr>\n",
       "    <tr>\n",
       "      <th>4</th>\n",
       "      <td>x17</td>\n",
       "      <td>0.029436</td>\n",
       "      <td>0.010186</td>\n",
       "    </tr>\n",
       "  </tbody>\n",
       "</table>\n",
       "</div>"
      ],
      "text/plain": [
       "  feature    weight       std\n",
       "0      x1  0.323778  0.025086\n",
       "1     x18  0.185660  0.008608\n",
       "2      x0  0.135081  0.025262\n",
       "3      x2  0.040461  0.018188\n",
       "4     x17  0.029436  0.010186"
      ]
     },
     "execution_count": 11,
     "metadata": {},
     "output_type": "execute_result"
    }
   ],
   "source": [
    "import eli5\n",
    "feat_imp_tree = eli5.explain_weights_df(modelRF)\n",
    "feat_imp_tree.head()"
   ]
  },
  {
   "cell_type": "markdown",
   "metadata": {},
   "source": [
    "# Выявление эффекта изменения цены"
   ]
  },
  {
   "cell_type": "markdown",
   "metadata": {},
   "source": [
    "Так как косвенно предполагаем, что ценовая политика направлена в будущее, то логично основываться именно на прогнозном качестве модели.\n",
    "\n",
    "Прежде всего посмотрим, на общую схожесть прогноза и реальных данных."
   ]
  },
  {
   "cell_type": "code",
   "execution_count": 12,
   "metadata": {},
   "outputs": [
    {
     "name": "stdout",
     "output_type": "stream",
     "text": [
      "Real data\n"
     ]
    },
    {
     "data": {
      "image/png": "[encoded data removed]",
      "text/plain": [
       "<Figure size 432x288 with 1 Axes>"
      ]
     },
     "metadata": {},
     "output_type": "display_data"
    }
   ],
   "source": [
    "plt.hist(semya['salesvolume_x'],bins = int(180/5))\n",
    "print('Real data')"
   ]
  },
  {
   "cell_type": "code",
   "execution_count": 13,
   "metadata": {},
   "outputs": [
    {
     "name": "stdout",
     "output_type": "stream",
     "text": [
      "Forecast\n"
     ]
    },
    {
     "data": {
      "image/png": "[encoded data removed]",
      "text/plain": [
       "<Figure size 432x288 with 1 Axes>"
      ]
     },
     "metadata": {},
     "output_type": "display_data"
    }
   ],
   "source": [
    "pred=modelRF.predict(X_test).round()\n",
    "\n",
    "plt.hist(pred,bins = int(180/5))\n",
    "print('Forecast')"
   ]
  },
  {
   "cell_type": "markdown",
   "metadata": {},
   "source": [
    "Как можем заметить, наш прогноз достаточно хорошо описывает данные, что дает нам возможность для дальнейшей интерпретации."
   ]
  },
  {
   "cell_type": "markdown",
   "metadata": {},
   "source": [
    "Внесем изменения в цены и посмотрим эффект на некоторых примерах."
   ]
  },
  {
   "cell_type": "code",
   "execution_count": 14,
   "metadata": {},
   "outputs": [
    {
     "name": "stdout",
     "output_type": "stream",
     "text": [
      "Реальные данные: [ 7.  1.  5. 12.  6.  8.  9.]\n",
      "Уменьшаем цену: [ 8.  8.  8. 10. 27. 16. 15.]\n",
      "Увеличим цену: [ 8.  4.  5.  4. 11.  9.  6.]\n"
     ]
    }
   ],
   "source": [
    "test_ex = X_test[123:130,:]\n",
    "temp = test_ex.copy()\n",
    "print('Реальные данные:', modelRF.predict(temp).round())\n",
    "temp1= 0.8*test_ex.copy()\n",
    "print('Уменьшаем цену:', modelRF.predict(temp1).round())\n",
    "temp2= 1.3*test_ex.copy()\n",
    "print('Увеличим цену:', modelRF.predict(temp2).round())"
   ]
  },
  {
   "cell_type": "code",
   "execution_count": 15,
   "metadata": {},
   "outputs": [
    {
     "data": {
      "text/plain": [
       "(6.857142857142857, 13.142857142857142, 6.714285714285714)"
      ]
     },
     "execution_count": 15,
     "metadata": {},
     "output_type": "execute_result"
    }
   ],
   "source": [
    "modelRF.predict(temp).round().mean(),modelRF.predict(temp1).round().mean(),modelRF.predict(temp2).round().mean()"
   ]
  },
  {
   "cell_type": "markdown",
   "metadata": {},
   "source": [
    "Из данных примеров можно заметить, что прогноз продаж зависит от цены, притом эффект направлен в \"нужную\" сторону (знак при цене отрицательный, так как при увеличении цены продажи падают)."
   ]
  },
  {
   "cell_type": "markdown",
   "metadata": {},
   "source": [
    "В качестве качества прогноза проверим среднюю выручку от продаж на конкретную дату."
   ]
  },
  {
   "cell_type": "code",
   "execution_count": 16,
   "metadata": {},
   "outputs": [
    {
     "name": "stdout",
     "output_type": "stream",
     "text": [
      "Real mean: 807.1978271333287\n",
      "Predicted mean: 808.1673794952899\n"
     ]
    }
   ],
   "source": [
    "temp3 = X_test.copy()\n",
    "sale_sum_real=np.multiply(X_test[:,1],y_test)\n",
    "sale_sum=np.multiply(temp3[:,1],modelRF.predict(temp3).round())\n",
    "    \n",
    "print('Real mean:', sale_sum_real.mean())\n",
    "\n",
    "print('Predicted mean:', sale_sum.mean())"
   ]
  },
  {
   "cell_type": "markdown",
   "metadata": {},
   "source": [
    "Как мы видим, в среднем модель предсказывает объем продаж достаточно точно, то есть магазинам можно опираться на результаты прогнозирования с целью управления ценой."
   ]
  },
  {
   "cell_type": "markdown",
   "metadata": {},
   "source": [
    "Далее вносились изменения во все цены путем их умножения на определенный коэффициент.\n",
    "Опытным путем быво выявлено, что максимум выручки достигается при среднем понижении цены на 10% от исходной."
   ]
  },
  {
   "cell_type": "code",
   "execution_count": 21,
   "metadata": {},
   "outputs": [
    {
     "data": {
      "text/plain": [
       "987.7487189713263"
      ]
     },
     "execution_count": 21,
     "metadata": {},
     "output_type": "execute_result"
    }
   ],
   "source": [
    "temp3= 0.9*X_test.copy()\n",
    "sale_sum=np.multiply(temp3[:,1],modelRF.predict(temp3).round())\n",
    "sale_sum.mean()"
   ]
  },
  {
   "cell_type": "markdown",
   "metadata": {},
   "source": [
    "# Выводы"
   ]
  },
  {
   "cell_type": "markdown",
   "metadata": {},
   "source": [
    "Результаты мини-исследования показали, что сети магазинов \"Семья\" в Перми оптимально понизить цены на сок в среднем на 10%. Выводы согласуются со здравым смыслом, так как цены в данной сети выше, чем у конкурентов (например, в Пятерочке)(из личного опыта и наблюдений), поэтому люди предпочитают сэкономить при покупке данного товара. Понижение же цен как раз позволило бы достигнуть уровня конкурентов и в полной мере бороться за покупателей.\n",
    "\n",
    "В данном проекте не была произведена корректировка цены по каждому sku отдельно, так как качесво прогноза в 0.8 не позволяет делать качественный точный прогноз, и лишь давать обобщенные рекомендации.\n",
    "\n",
    "Вместе с тем, сеть так же собирает данные по клиентам (через карты лояльности), поэтому существует возможность для дальнейшего улучшения модели и выработку более точных и конкретных решений (например, установление цен на месяц вперед, тогда в качестве тестовой выборке будут не случайные наблюдения, а продажи за последний месяц).\n",
    "\n",
    "В целом, подход показал свою работоспособность, а полученные результаты полностью согласуются с общей логикой, поэтому цель проекта можно считать достигнутой."
   ]
  },
  {
   "cell_type": "code",
   "execution_count": null,
   "metadata": {},
   "outputs": [],
   "source": []
  }
 ],
 "metadata": {
  "kernelspec": {
   "display_name": "Python 3",
   "language": "python",
   "name": "python3"
  },
  "language_info": {
   "codemirror_mode": {
    "name": "ipython",
    "version": 3
   },
   "file_extension": ".py",
   "mimetype": "text/x-python",
   "name": "python",
   "nbconvert_exporter": "python",
   "pygments_lexer": "ipython3",
   "version": "3.6.5"
  }
 },
 "nbformat": 4,
 "nbformat_minor": 2
}
